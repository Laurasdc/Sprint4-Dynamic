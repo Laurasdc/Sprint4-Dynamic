{
 "cells": [
  {
   "cell_type": "markdown",
   "id": "212c4872",
   "metadata": {},
   "source": [
    "# Laura Souza de Carvalho - RM: 556320\n",
    "# Ali Andrea Mamani Molle - RM: 558052\n",
    "# Lucas Vasquez - RM: 555159\n",
    "# Guilherme Linard - RM: 555768\n",
    "# Lucas Queiroz - RM: 556323"
   ]
  },
  {
   "cell_type": "markdown",
   "id": "03035d93",
   "metadata": {},
   "source": [
    "# Otimização de Estoque com Programação Dinâmica"
   ]
  },
  {
   "cell_type": "markdown",
   "id": "30c98ba3",
   "metadata": {},
   "source": [
    "# Problema\n",
    "Nas unidades de diagnóstico, o consumo diário de insumos (reagentes e descartáveis) não é registrado com precisão, dificultando o controle de estoque e a previsão de reposição. Diante disso, é necessário modelar este problema usando Programação Dinâmica para propor uma solução que melhore a visibilidade do consumo e reduza desperdícios."
   ]
  },
  {
   "cell_type": "markdown",
   "id": "054e2d9e",
   "metadata": {},
   "source": [
    "Baseamos nosso modelo no problema de Dimensionamento de Lote (Lot-Sizing).Estado ($i$):$C(i)$ = O custo mínimo para satisfazer toda a demanda a partir do dia $i$ até o final, assumindo que o estoque no dia $i$ é zero.Decisão ($j$):No dia $i$ (com estoque zero), decidimos fazer um pedido para cobrir a demanda de todos os dias desde $i$ até $j$ (onde $i \\le j < N$).Função Objetivo:Encontrar $C(0)$, que é o custo mínimo total para todo o período (do dia 0 até $N-1$).Função de Transição (Recorrência):O custo $C(i)$ é o mínimo entre todas as decisões $j$ possíveis. O custo de uma decisão $j$ é:(Custo Fixo $K$) + (Custo de Estoque para $D_i...D_j$) + (Custo do subproblema $C(j+1)$).$$C(i) = \\min_{i \\le j < N} \\left\\{ K + \\sum_{k=i}^{j} h \\cdot D_k \\cdot (k-i) + C(j+1) \\right\\}$$Caso Base:$C(N) = 0$. O custo para atender a demanda após o último dia é zero."
   ]
  },
  {
   "cell_type": "markdown",
   "id": "7c4d8fe5",
   "metadata": {},
   "source": [
    "Tipo de Célula: Texto (Markdown)\n",
    "Este bloco importa sys (para recursão) e define os dados do problema:\n",
    "\n",
    "D: Lista de demandas diárias.\n",
    "\n",
    "N: Total de dias.\n",
    "\n",
    "K: Custo fixo por pedido.\n",
    "\n",
    "h: Custo de manter 1 unidade em estoque por 1 dia."
   ]
  },
  {
   "cell_type": "code",
   "execution_count": 1,
   "id": "28c1bd38",
   "metadata": {},
   "outputs": [
    {
     "name": "stdout",
     "output_type": "stream",
     "text": [
      "Dados de Entrada:\n",
      "Horizonte de 5 dias.\n",
      "Demandas (D): [40, 10, 10, 100, 30]\n",
      "Custo de Pedido (K): R$ 100\n",
      "Custo de Holding (h): R$ 2 por unidade/dia\n"
     ]
    }
   ],
   "source": [
    "import sys\n",
    "\n",
    "# Aumenta o limite de recursão para a versão recursiva pura\n",
    "sys.setrecursionlimit(2000)\n",
    "\n",
    "# --- Dados do Problema ---\n",
    "# D = Demandas (consumo) para os próximos N dias\n",
    "D = [40, 10, 10, 100, 30] \n",
    "N = len(D)\n",
    "\n",
    "K = 100  # Custo fixo de fazer um pedido (ex: R$ 100)\n",
    "h = 2    # Custo de manter 1 unidade em estoque por 1 dia (ex: R$ 2)\n",
    "\n",
    "print(f\"Dados de Entrada:\")\n",
    "print(f\"Horizonte de {N} dias.\")\n",
    "print(f\"Demandas (D): {D}\")\n",
    "print(f\"Custo de Pedido (K): R$ {K}\")\n",
    "print(f\"Custo de Holding (h): R$ {h} por unidade/dia\")"
   ]
  },
  {
   "cell_type": "markdown",
   "id": "11650b2f",
   "metadata": {},
   "source": [
    "Versão 1: Recursiva Pura (Top-Down)\n",
    "\n",
    "Esta função implementa a fórmula de recorrência diretamente. Para cada dia i, ela testa todas as decisões j (pedir até o dia j) e chama a si mesma para o dia j+1. É lenta porque recalcula os mesmos dias várias vezes."
   ]
  },
  {
   "cell_type": "code",
   "execution_count": 2,
   "id": "7b57cf9b",
   "metadata": {},
   "outputs": [],
   "source": [
    "def resolver_recursivo(i, N, D, K, h):\n",
    "    \"\"\"\n",
    "    Calcula o custo mínimo a partir do dia 'i' usando recursão pura.\n",
    "    \"\"\"\n",
    "    # Caso Base: Se estamos no dia N (ou além), não há mais demanda/custo.\n",
    "    if i == N:\n",
    "        return 0\n",
    "\n",
    "    min_custo_total = float('inf')\n",
    "\n",
    "    # Decisão: Testar todas as possíveis datas 'j' para o fim do lote\n",
    "    for j in range(i, N):\n",
    "        # 1. Custo Fixo do Pedido\n",
    "        custo_pedido = K\n",
    "\n",
    "        # 2. Custo de Manutenção de Estoque\n",
    "        custo_holding = 0\n",
    "        for k in range(i, j + 1):\n",
    "            # Demanda D[k] é mantida por (k-i) dias\n",
    "            custo_holding += h * D[k] * (k - i)\n",
    "\n",
    "        # 3. Custo do Subproblema Restante (a partir do dia j+1)\n",
    "        custo_subproblema = resolver_recursivo(j + 1, N, D, K, h)\n",
    "\n",
    "        # Custo total para esta decisão 'j'\n",
    "        custo_total_decisao = custo_pedido + custo_holding + custo_subproblema\n",
    "\n",
    "        # Queremos o mínimo entre todas as decisões 'j'\n",
    "        min_custo_total = min(min_custo_total, custo_total_decisao)\n",
    "\n",
    "    return min_custo_total"
   ]
  },
  {
   "cell_type": "markdown",
   "id": "1607068e",
   "metadata": {},
   "source": [
    "Versão 2: Memorização (Top-Down com Memo)\n",
    "\n",
    "Esta é a versão recursiva otimizada. Ela usa um dicionário memo para guardar resultados. Antes de calcular o custo para um dia i, ela verifica se ele já está no memo. Se sim, retorna o valor salvo. Se não, calcula e salva no memo antes de retornar."
   ]
  },
  {
   "cell_type": "code",
   "execution_count": 3,
   "id": "8703195d",
   "metadata": {},
   "outputs": [],
   "source": [
    "def resolver_memoization(i, N, D, K, h, memo):\n",
    "    \"\"\"\n",
    "    Calcula o custo mínimo a partir do dia 'i' usando recursão com memorização.\n",
    "    'memo' é um dicionário para guardar resultados já calculados.\n",
    "    \"\"\"\n",
    "    # Caso Base\n",
    "    if i == N:\n",
    "        return 0\n",
    "\n",
    "    # Verifica se o resultado para o estado 'i' já foi calculado\n",
    "    if i in memo:\n",
    "        return memo[i]\n",
    "\n",
    "    min_custo_total = float('inf')\n",
    "\n",
    "    # A lógica da decisão é idêntica à recursiva\n",
    "    for j in range(i, N):\n",
    "        custo_pedido = K\n",
    "        custo_holding = 0\n",
    "        for k in range(i, j + 1):\n",
    "            custo_holding += h * D[k] * (k - i)\n",
    "\n",
    "        # A única mudança é passar o 'memo' na chamada recursiva\n",
    "        custo_subproblema = resolver_memoization(j + 1, N, D, K, h, memo)\n",
    "\n",
    "        custo_total_decisao = custo_pedido + custo_holding + custo_subproblema\n",
    "        min_custo_total = min(min_custo_total, custo_total_decisao)\n",
    "\n",
    "    # Armazena o resultado no 'memo' antes de retornar\n",
    "    memo[i] = min_custo_total\n",
    "    return min_custo_total"
   ]
  },
  {
   "cell_type": "markdown",
   "id": "f6e6ec4e",
   "metadata": {},
   "source": [
    "Versão 3: Iterativa (Bottom-Up)\n",
    "\n",
    "Esta versão não usa recursão. Ela cria uma tabela (array) dp e a preenche \"de trás para frente\" (do último dia até o dia 0). Para calcular o custo dp[i], ela usa os valores dp[j+1] que já foram calculados e estão na tabela. Esta é a abordagem mais eficiente."
   ]
  },
  {
   "cell_type": "code",
   "execution_count": 4,
   "id": "b5f544bb",
   "metadata": {},
   "outputs": [],
   "source": [
    "def resolver_bottom_up(N, D, K, h):\n",
    "    \"\"\"\n",
    "    Calcula o custo mínimo de forma iterativa, preenchendo a tabela dp.\n",
    "    \"\"\"\n",
    "    # dp[i] = Custo mínimo para satisfazer a demanda do dia 'i' até N-1.\n",
    "    # Tamanho N+1 para incluir o caso base dp[N].\n",
    "    dp = [0] * (N + 1)\n",
    "\n",
    "    # Caso Base: dp[N] = 0 (custo após o último dia é 0)\n",
    "\n",
    "    # Preenchemos a tabela \"de trás para frente\"\n",
    "    # Começamos do último dia (N-1) e vamos até o dia 0\n",
    "    for i in range(N - 1, -1, -1):\n",
    "        \n",
    "        min_custo_para_i = float('inf')\n",
    "        \n",
    "        # Testamos todas as decisões 'j' (de 'i' até N-1)\n",
    "        for j in range(i, N):\n",
    "            custo_pedido = K\n",
    "            custo_holding = 0\n",
    "            for k in range(i, j + 1):\n",
    "                custo_holding += h * D[k] * (k - i)\n",
    "\n",
    "            # Custo do subproblema é pego diretamente da tabela 'dp'\n",
    "            # Esta é a resposta para C(j+1)\n",
    "            custo_subproblema = dp[j + 1]\n",
    "\n",
    "            custo_total_decisao = custo_pedido + custo_holding + custo_subproblema\n",
    "            min_custo_para_i = min(min_custo_para_i, custo_total_decisao)\n",
    "            \n",
    "        # Armazenamos o custo mínimo para o estado 'i'\n",
    "        dp[i] = min_custo_para_i\n",
    "\n",
    "    # A resposta final é o custo mínimo começando do dia 0\n",
    "    return dp[0]"
   ]
  },
  {
   "cell_type": "markdown",
   "id": "203649dd",
   "metadata": {},
   "source": [
    "Este bloco final executa as três funções (Recursiva, Memorização e Bottom-Up) com os mesmos dados. O assert no final verifica se todas elas produziram exatamente o mesmo resultado, garantindo que nossa lógica está correta."
   ]
  },
  {
   "cell_type": "code",
   "execution_count": 5,
   "id": "6cc12396",
   "metadata": {},
   "outputs": [
    {
     "name": "stdout",
     "output_type": "stream",
     "text": [
      "--- Iniciando Cálculo ---\n",
      "[Recursivo Puro] Custo Mínimo Total: R$ 320\n",
      "[Memorização]    Custo Mínimo Total: R$ 320\n",
      "[Bottom-Up]      Custo Mínimo Total: R$ 320\n",
      "\n",
      "--- VERIFICAÇÃO ---\n",
      "OK: Todos os métodos produziram o mesmo resultado.\n"
     ]
    }
   ],
   "source": [
    "# ---\n",
    "# Execução e Verificação (Garantia de Resultados)\n",
    "# ---\n",
    "\n",
    "print(f\"--- Iniciando Cálculo ---\")\n",
    "\n",
    "# 1. Resolvendo com Recursão Pura\n",
    "custo_rec = resolver_recursivo(0, N, D, K, h)\n",
    "print(f\"[Recursivo Puro] Custo Mínimo Total: R$ {custo_rec}\")\n",
    "\n",
    "# 2. Resolvendo com Memorização\n",
    "memo = {} # Zera o 'memo'\n",
    "custo_memo = resolver_memoization(0, N, D, K, h, memo)\n",
    "print(f\"[Memorização]    Custo Mínimo Total: R$ {custo_memo}\")\n",
    "\n",
    "# 3. Resolvendo com Bottom-Up\n",
    "custo_bu = resolver_bottom_up(N, D, K, h)\n",
    "print(f\"[Bottom-Up]      Custo Mínimo Total: R$ {custo_bu}\")\n",
    "\n",
    "# 4. Verificação\n",
    "assert custo_rec == custo_memo == custo_bu\n",
    "\n",
    "print(\"\\n--- VERIFICAÇÃO ---\")\n",
    "print(\"OK: Todos os métodos produziram o mesmo resultado.\")"
   ]
  }
 ],
 "metadata": {
  "kernelspec": {
   "display_name": "anaconda-toolbox",
   "language": "python",
   "name": "python3"
  },
  "language_info": {
   "codemirror_mode": {
    "name": "ipython",
    "version": 3
   },
   "file_extension": ".py",
   "mimetype": "text/x-python",
   "name": "python",
   "nbconvert_exporter": "python",
   "pygments_lexer": "ipython3",
   "version": "3.13.5"
  }
 },
 "nbformat": 4,
 "nbformat_minor": 5
}
